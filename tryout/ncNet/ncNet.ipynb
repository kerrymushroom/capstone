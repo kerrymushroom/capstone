{
 "cells": [
  {
   "cell_type": "markdown",
   "id": "66263890-8600-49f3-a56a-f2897f07086e",
   "metadata": {},
   "source": [
    "# environment requirements for windows 11"
   ]
  },
  {
   "cell_type": "markdown",
   "id": "1af5f4cb-0db7-4fa2-811c-b333886eac4f",
   "metadata": {},
   "source": [
    "python version: 3.7 (venv recommended) <br>\n",
    "torchtext==0.8 <br>\n",
    "torch==1.7 <br>\n",
    "urllib3==1.26.20 "
   ]
  },
  {
   "cell_type": "code",
   "execution_count": null,
   "id": "d3f8e05e-2834-4e75-b57f-9bc41a0f1b3f",
   "metadata": {},
   "outputs": [],
   "source": [
    "from platform import python_version\n",
    "print(python_version())"
   ]
  },
  {
   "cell_type": "code",
   "execution_count": null,
   "id": "6fa4a8b9-d092-4e46-9da0-69f1ce9764f4",
   "metadata": {},
   "outputs": [],
   "source": [
    "pip install pandas"
   ]
  },
  {
   "cell_type": "markdown",
   "id": "fbf81e1c-a8a5-43ee-adaa-1bcd10fc58fc",
   "metadata": {},
   "source": [
    "*usual pip installation method does not work for older version, this line is for cpu package, if you use cuda, use cuda package*"
   ]
  },
  {
   "cell_type": "code",
   "execution_count": null,
   "id": "2e5ac293-93c8-4d12-9fd7-c1bbcfd7be3d",
   "metadata": {},
   "outputs": [],
   "source": [
    "pip install torch==1.7.0+cpu -f https://download.pytorch.org/whl/torch_stable.html"
   ]
  },
  {
   "cell_type": "markdown",
   "id": "879aa6c1-3848-4eaf-83d7-c2b3129d49de",
   "metadata": {},
   "source": [
    "*torchtext version and pytorch version is strictly matched*"
   ]
  },
  {
   "cell_type": "code",
   "execution_count": null,
   "id": "a1bbb71b-7934-45c6-900f-c8451cbdc1cd",
   "metadata": {},
   "outputs": [],
   "source": [
    "pip install torchtext==0.8 -f https://download.pytorch.org/whl/torch_stable.html"
   ]
  },
  {
   "cell_type": "code",
   "execution_count": null,
   "id": "4e9455c6-8257-4d3c-8d4d-2dc985e642f2",
   "metadata": {},
   "outputs": [],
   "source": [
    "pip list"
   ]
  },
  {
   "cell_type": "code",
   "execution_count": null,
   "id": "041cdf8c-2fb6-472c-9bc1-be9b7e90b9b0",
   "metadata": {},
   "outputs": [],
   "source": [
    "pip install ipywidgets"
   ]
  },
  {
   "cell_type": "code",
   "execution_count": null,
   "id": "375f4a17-a296-4a86-983f-9aff030b03fb",
   "metadata": {},
   "outputs": [],
   "source": [
    "pip install urllib3==1.26.20"
   ]
  },
  {
   "cell_type": "markdown",
   "id": "ccddeaa2-bd8d-4741-85a6-3a7d981a0d1d",
   "metadata": {},
   "source": [
    "*after installing urllib3 2.0 version, you need to add the following codes in `Lib\\site-packages\\urllib3\\util\\url.py`*"
   ]
  },
  {
   "cell_type": "markdown",
   "id": "a19a32d8-eced-40de-8768-febd858a3719",
   "metadata": {},
   "source": [
    "```python\n",
    "from urllib.parse import urlparse\n",
    "def get_host(url: str) -> (str, str, str):\n",
    "\t\tparsed_url = urlparse(url)\n",
    "\t\treturn parsed_url.scheme, parsed_url.netloc, parsed_url.path\n",
    "import urllib3\n",
    "urllib3.get_host = get_host\n",
    "\n",
    "```"
   ]
  },
  {
   "cell_type": "markdown",
   "id": "dc519c2a-a910-46d5-ae64-18711d76086d",
   "metadata": {},
   "source": [
    "*before installing py_stringsimjoin, please make sure you have installed Windows 11 SDK and C++ x64/x86 build tools in vscode installer*"
   ]
  },
  {
   "cell_type": "code",
   "execution_count": null,
   "id": "519a8a5c-6ff5-47d7-bc09-e890f58d2d86",
   "metadata": {},
   "outputs": [],
   "source": [
    "pip install py_stringsimjoin"
   ]
  },
  {
   "cell_type": "code",
   "execution_count": null,
   "id": "53451fdb-92e6-434f-b079-47f62b5e7bcf",
   "metadata": {},
   "outputs": [],
   "source": [
    "pip install vega"
   ]
  },
  {
   "cell_type": "code",
   "execution_count": null,
   "id": "97059cab-9000-4ffe-a270-b2e8adbf9382",
   "metadata": {},
   "outputs": [],
   "source": [
    "from ncNet import ncNet"
   ]
  },
  {
   "cell_type": "code",
   "execution_count": null,
   "id": "db000207-781a-4062-bf51-f8e3f2842dbd",
   "metadata": {},
   "outputs": [],
   "source": [
    "from vega import VegaLite"
   ]
  },
  {
   "cell_type": "markdown",
   "id": "641db896-58f6-4fd7-ab41-4cacf13bf656",
   "metadata": {},
   "source": [
    "*you can ignore the legacy warning*"
   ]
  },
  {
   "cell_type": "code",
   "execution_count": null,
   "id": "300f683c-106c-476f-872c-b39f5244caed",
   "metadata": {},
   "outputs": [],
   "source": [
    "ncNet = ncNet(\n",
    "    trained_model= './save_models/trained_model.pt'\n",
    ")"
   ]
  }
 ],
 "metadata": {
  "kernelspec": {
   "display_name": "test_venv37",
   "language": "python",
   "name": "test_venv37"
  },
  "language_info": {
   "codemirror_mode": {
    "name": "ipython",
    "version": 3
   },
   "file_extension": ".py",
   "mimetype": "text/x-python",
   "name": "python",
   "nbconvert_exporter": "python",
   "pygments_lexer": "ipython3",
   "version": "3.7.0"
  }
 },
 "nbformat": 4,
 "nbformat_minor": 5
}
