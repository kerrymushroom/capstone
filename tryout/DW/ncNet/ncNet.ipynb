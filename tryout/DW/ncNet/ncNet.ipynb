{
 "cells": [
  {
   "cell_type": "markdown",
   "id": "66263890-8600-49f3-a56a-f2897f07086e",
   "metadata": {},
   "source": [
    "# environment requirements for windows 11"
   ]
  },
  {
   "cell_type": "markdown",
   "id": "1af5f4cb-0db7-4fa2-811c-b333886eac4f",
   "metadata": {},
   "source": [
    "python version: 3.7 (venv recommended) <br>\n",
    "torchtext==0.8 <br>\n",
    "torch==1.7 <br>\n",
    "urllib3==1.26.20 "
   ]
  },
  {
   "cell_type": "code",
   "execution_count": null,
   "id": "d3f8e05e-2834-4e75-b57f-9bc41a0f1b3f",
   "metadata": {},
   "outputs": [],
   "source": [
    "from platform import python_version\n",
    "print(python_version())"
   ]
  },
  {
   "cell_type": "code",
   "execution_count": null,
   "id": "6fa4a8b9-d092-4e46-9da0-69f1ce9764f4",
   "metadata": {},
   "outputs": [],
   "source": [
    "pip install pandas"
   ]
  },
  {
   "cell_type": "markdown",
   "id": "fbf81e1c-a8a5-43ee-adaa-1bcd10fc58fc",
   "metadata": {},
   "source": [
    "*usual pip installation method does not work for older version, this line is for cpu package, if you use cuda, use cuda package*"
   ]
  },
  {
   "cell_type": "code",
   "execution_count": null,
   "id": "2e5ac293-93c8-4d12-9fd7-c1bbcfd7be3d",
   "metadata": {},
   "outputs": [],
   "source": [
    "pip install torch==1.7.0+cpu -f https://download.pytorch.org/whl/torch_stable.html"
   ]
  },
  {
   "cell_type": "markdown",
   "id": "879aa6c1-3848-4eaf-83d7-c2b3129d49de",
   "metadata": {},
   "source": [
    "*torchtext version and pytorch version is strictly matched*"
   ]
  },
  {
   "cell_type": "code",
   "execution_count": null,
   "id": "a1bbb71b-7934-45c6-900f-c8451cbdc1cd",
   "metadata": {},
   "outputs": [],
   "source": [
    "pip install torchtext==0.8 -f https://download.pytorch.org/whl/torch_stable.html"
   ]
  },
  {
   "cell_type": "code",
   "execution_count": null,
   "id": "4e9455c6-8257-4d3c-8d4d-2dc985e642f2",
   "metadata": {},
   "outputs": [],
   "source": [
    "pip list"
   ]
  },
  {
   "cell_type": "code",
   "execution_count": null,
   "id": "041cdf8c-2fb6-472c-9bc1-be9b7e90b9b0",
   "metadata": {},
   "outputs": [],
   "source": [
    "pip install ipywidgets"
   ]
  },
  {
   "cell_type": "code",
   "execution_count": null,
   "id": "375f4a17-a296-4a86-983f-9aff030b03fb",
   "metadata": {},
   "outputs": [],
   "source": [
    "pip install urllib3==1.26.20"
   ]
  },
  {
   "cell_type": "markdown",
   "id": "ccddeaa2-bd8d-4741-85a6-3a7d981a0d1d",
   "metadata": {},
   "source": [
    "*after installing urllib3 2.0 version, you need to add the following codes in `Lib\\site-packages\\urllib3\\util\\url.py`*"
   ]
  },
  {
   "cell_type": "markdown",
   "id": "a19a32d8-eced-40de-8768-febd858a3719",
   "metadata": {},
   "source": [
    "```python\n",
    "from urllib.parse import urlparse\n",
    "def get_host(url: str) -> (str, str, str):\n",
    "\t\tparsed_url = urlparse(url)\n",
    "\t\treturn parsed_url.scheme, parsed_url.netloc, parsed_url.path\n",
    "import urllib3\n",
    "urllib3.get_host = get_host\n",
    "\n",
    "```"
   ]
  },
  {
   "cell_type": "markdown",
   "id": "dc519c2a-a910-46d5-ae64-18711d76086d",
   "metadata": {},
   "source": [
    "*before installing py_stringsimjoin, please make sure you have installed Windows 11 SDK and C++ x64/x86 build tools in vscode installer*"
   ]
  },
  {
   "cell_type": "code",
   "execution_count": null,
   "id": "519a8a5c-6ff5-47d7-bc09-e890f58d2d86",
   "metadata": {},
   "outputs": [],
   "source": [
    "pip install py_stringsimjoin"
   ]
  },
  {
   "cell_type": "code",
   "execution_count": null,
   "id": "53451fdb-92e6-434f-b079-47f62b5e7bcf",
   "metadata": {},
   "outputs": [],
   "source": [
    "pip install vega"
   ]
  },
  {
   "cell_type": "code",
   "execution_count": 1,
   "id": "97059cab-9000-4ffe-a270-b2e8adbf9382",
   "metadata": {},
   "outputs": [],
   "source": [
    "from ncNet import ncNet"
   ]
  },
  {
   "cell_type": "code",
   "execution_count": 2,
   "id": "db000207-781a-4062-bf51-f8e3f2842dbd",
   "metadata": {},
   "outputs": [],
   "source": [
    "from vega import VegaLite"
   ]
  },
  {
   "cell_type": "markdown",
   "id": "641db896-58f6-4fd7-ab41-4cacf13bf656",
   "metadata": {},
   "source": [
    "*you can ignore the legacy warning*"
   ]
  },
  {
   "cell_type": "code",
   "execution_count": null,
   "id": "300f683c-106c-476f-872c-b39f5244caed",
   "metadata": {},
   "outputs": [],
   "source": [
    "ncNet = ncNet(\n",
    "    trained_model= './save_models/trained_model.pt'\n",
    ")"
   ]
  },
  {
   "cell_type": "markdown",
   "id": "6d45509c-512e-4f32-a004-0e5250869f93",
   "metadata": {},
   "source": [
    "CASE STUDY 1: DEPARTMENT STORE DATASET"
   ]
  },
  {
   "cell_type": "code",
   "execution_count": 4,
   "id": "22dbbbbe-1c65-44a0-ac4b-78d196de068c",
   "metadata": {},
   "outputs": [],
   "source": [
    "# The data type must be one of the csv, json, sqlite3, or a DataFrame object.\n",
    "ncNet.specify_dataset(\n",
    "    data_type='sqlite3',\n",
    "    db_url='./dataset/database/department_store/department_store.sqlite',\n",
    "    table_name='products'\n",
    ")"
   ]
  },
  {
   "cell_type": "code",
   "execution_count": 5,
   "id": "d93fbed8-8091-470e-b381-7903483aeb83",
   "metadata": {},
   "outputs": [
    {
     "name": "stdout",
     "output_type": "stream",
     "text": [
      "[NL Question]: What is the highest price of product, grouped by product type? Show a bar chart, and display by the names in desc.\n",
      "[Chart Template]: None\n",
      "[Predicted VIS Query]: mark bar data products encoding x product_type_code y aggregate max product_price transform group x\n"
     ]
    },
    {
     "data": {
      "application/vnd.vega.v5+json": {
       "data": {
        "values": [
         {
          "product_id": 1,
          "product_name": "red jeans",
          "product_price": 734.73,
          "product_type_code": "Clothes"
         },
         {
          "product_id": 2,
          "product_name": "yellow jeans",
          "product_price": 687.23,
          "product_type_code": "Clothes"
         },
         {
          "product_id": 3,
          "product_name": "black jeans",
          "product_price": 695.16,
          "product_type_code": "Clothes"
         },
         {
          "product_id": 4,
          "product_name": "blue jeans",
          "product_price": 939.57,
          "product_type_code": "Clothes"
         },
         {
          "product_id": 5,
          "product_name": "red jeans",
          "product_price": 534.52,
          "product_type_code": "Clothes"
         },
         {
          "product_id": 6,
          "product_name": "red topping",
          "product_price": 408.82,
          "product_type_code": "Clothes"
         },
         {
          "product_id": 7,
          "product_name": "black topping",
          "product_price": 916.53,
          "product_type_code": "Clothes"
         },
         {
          "product_id": 8,
          "product_name": "yellow topping",
          "product_price": 918.41,
          "product_type_code": "Clothes"
         },
         {
          "product_id": 9,
          "product_name": "blue topping",
          "product_price": 604.86,
          "product_type_code": "Clothes"
         },
         {
          "product_id": 10,
          "product_name": "monitor",
          "product_price": 813.76,
          "product_type_code": "Hardware"
         },
         {
          "product_id": 11,
          "product_name": "mouse",
          "product_price": 803.74,
          "product_type_code": "Hardware"
         },
         {
          "product_id": 12,
          "product_name": "drive",
          "product_price": 944.96,
          "product_type_code": "Hardware"
         },
         {
          "product_id": 13,
          "product_name": "keyboard",
          "product_price": 629.89,
          "product_type_code": "Hardware"
         },
         {
          "product_id": 14,
          "product_name": "speaker",
          "product_price": 612.46,
          "product_type_code": "Hardware"
         },
         {
          "product_id": 15,
          "product_name": "mic",
          "product_price": 971.44,
          "product_type_code": "Hardware"
         }
        ]
       },
       "encoding": {
        "x": {
         "field": "product_type_code",
         "type": "nominal"
        },
        "y": {
         "aggregate": "max",
         "field": "product_price",
         "type": "quantitative"
        }
       },
       "mark": "bar"
      },
      "image/png": "[encoded data removed]"
     },
     "metadata": {},
     "output_type": "display_data"
    }
   ],
   "source": [
    "display({'application/vnd.vega.v5+json': ncNet.nl2vis(\"What is the highest price of product, grouped by product type? Show a bar chart, and display by the names in desc.\")[1] }, raw=True)"
   ]
  },
  {
   "cell_type": "markdown",
   "id": "8231073d-4d6d-415f-8cce-831fd15d8272",
   "metadata": {},
   "source": [
    "CASE STUDY 4: CUSTOMERS AND PRODUCTS CONTACTS DATASET"
   ]
  },
  {
   "cell_type": "code",
   "execution_count": 6,
   "id": "37d77483-8f48-4e5c-9e98-971f99f1eb98",
   "metadata": {},
   "outputs": [],
   "source": [
    "# The data type must be one of the csv, json, sqlite3, or a DataFrame object.\n",
    "ncNet.specify_dataset(\n",
    "    data_type='sqlite3',\n",
    "    db_url='./dataset/database/customers_and_products_contacts/customers_and_products_contacts.sqlite',\n",
    "    table_name='products'\n",
    ")"
   ]
  },
  {
   "cell_type": "code",
   "execution_count": 7,
   "id": "1cab9952-84f3-4bb9-9b9c-a3d22dffdf28",
   "metadata": {},
   "outputs": [
    {
     "name": "stdout",
     "output_type": "stream",
     "text": [
      "[NL Question]: Show the number of products with price higher than 1000 or lower than 500 for each product name in a bar chart, and could you rank y-axis in descending order?\n",
      "[Chart Template]: None\n",
      "[Predicted VIS Query]: mark bar data products encoding x product_name y aggregate count product_name transform filter product_price > 1000 or product_price < 500 group x sort y desc\n"
     ]
    },
    {
     "data": {
      "application/vnd.vega.v5+json": {
       "data": {
        "values": [
         {
          "product_id": 1,
          "product_name": "Apple",
          "product_price": 54753982.574522,
          "product_type_code": "Hardware"
         },
         {
          "product_id": 2,
          "product_name": "jcrew",
          "product_price": 30590929.528306,
          "product_type_code": "Clothes"
         },
         {
          "product_id": 3,
          "product_name": "Apple",
          "product_price": 10268.85297069,
          "product_type_code": "Hardware"
         },
         {
          "product_id": 4,
          "product_name": "Apple",
          "product_price": 22956668.699482,
          "product_type_code": "Hardware"
         },
         {
          "product_id": 5,
          "product_name": "jcrew",
          "product_price": 5927021.8748021,
          "product_type_code": "Clothes"
         },
         {
          "product_id": 6,
          "product_name": "Apple",
          "product_price": 77.1099611475,
          "product_type_code": "Hardware"
         },
         {
          "product_id": 7,
          "product_name": "Apple",
          "product_price": 450.392325205,
          "product_type_code": "Hardware"
         },
         {
          "product_id": 8,
          "product_name": "Sony",
          "product_price": 4446237.9177554,
          "product_type_code": "Hardware"
         },
         {
          "product_id": 9,
          "product_name": "jcrew",
          "product_price": 622.7927598449,
          "product_type_code": "Clothes"
         },
         {
          "product_id": 10,
          "product_name": "Sony",
          "product_price": 7171.5933353284,
          "product_type_code": "Hardware"
         },
         {
          "product_id": 11,
          "product_name": "jcrew",
          "product_price": 149.9551907694,
          "product_type_code": "Clothes"
         },
         {
          "product_id": 12,
          "product_name": "gucci",
          "product_price": 593.8051992998,
          "product_type_code": "Clothes"
         },
         {
          "product_id": 13,
          "product_name": "gucci",
          "product_price": 11388.26282462,
          "product_type_code": "Clothes"
         },
         {
          "product_id": 14,
          "product_name": "Sony",
          "product_price": 389.9154264433,
          "product_type_code": "Hardware"
         },
         {
          "product_id": 15,
          "product_name": "gucci",
          "product_price": 310488248.48788,
          "product_type_code": "Clothes"
         }
        ]
       },
       "encoding": {
        "x": {
         "field": "product_name",
         "sort": "-y",
         "type": "nominal"
        },
        "y": {
         "aggregate": "count",
         "field": "product_name",
         "type": "quantitative"
        }
       },
       "mark": "bar",
       "transform": [
        {
         "filter": "datum.product_price > 1000 | datum.product_price < 500"
        }
       ]
      },
      "image/png": "[encoded data removed]"
     },
     "metadata": {},
     "output_type": "display_data"
    }
   ],
   "source": [
    "display({'application/vnd.vega.v5+json': ncNet.nl2vis(\"Show the number of products with price higher than 1000 or lower than 500 for each product name in a bar chart, and could you rank y-axis in descending order?\")[1] }, raw=True)"
   ]
  }
 ],
 "metadata": {
  "kernelspec": {
   "display_name": "test_venv37",
   "language": "python",
   "name": "test_venv37"
  },
  "language_info": {
   "codemirror_mode": {
    "name": "ipython",
    "version": 3
   },
   "file_extension": ".py",
   "mimetype": "text/x-python",
   "name": "python",
   "nbconvert_exporter": "python",
   "pygments_lexer": "ipython3",
   "version": "3.7.0"
  }
 },
 "nbformat": 4,
 "nbformat_minor": 5
}
