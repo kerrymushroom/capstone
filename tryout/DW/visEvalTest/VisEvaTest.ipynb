{
 "cells": [
  {
   "cell_type": "code",
   "execution_count": null,
   "id": "7454d3f2-e8dc-454f-bc48-5d56fea71402",
   "metadata": {},
   "outputs": [],
   "source": [
    "pip install --upgrade vis-evaluator"
   ]
  },
  {
   "cell_type": "code",
   "execution_count": null,
   "id": "d34e8c02-f2c2-45df-9d97-f0c21aff87ea",
   "metadata": {},
   "outputs": [],
   "source": [
    "pip install openai==1.12.0"
   ]
  },
  {
   "cell_type": "markdown",
   "id": "1d9464c7-9e40-4e42-a7bb-793a203b1eaf",
   "metadata": {},
   "source": [
    "to make cairosvg work on windows"
   ]
  },
  {
   "cell_type": "code",
   "execution_count": null,
   "id": "8254f0b5-73e3-4b6f-8081-ef4bc87ac5d5",
   "metadata": {},
   "outputs": [],
   "source": [
    "import os\n",
    "os.environ['path'] += r';C:\\Program Files\\UniConvertor-2.0rc5\\dlls'"
   ]
  },
  {
   "cell_type": "code",
   "execution_count": null,
   "id": "6da307ee-e502-4d42-8401-b663e51ee16c",
   "metadata": {},
   "outputs": [],
   "source": [
    "import cairosvg"
   ]
  },
  {
   "cell_type": "code",
   "execution_count": null,
   "id": "d76f83f4-2500-49a7-83b6-651f36fb8547",
   "metadata": {},
   "outputs": [],
   "source": [
    "import openai"
   ]
  },
  {
   "cell_type": "code",
   "execution_count": null,
   "id": "8a0583f4-b86a-4e90-b69c-17a8076a1ecc",
   "metadata": {},
   "outputs": [],
   "source": [
    "from viseval.agent import Agent, ChartExecutionResult"
   ]
  },
  {
   "cell_type": "code",
   "execution_count": null,
   "id": "76e2cc38-b608-47a1-adae-cad40bf03e33",
   "metadata": {},
   "outputs": [],
   "source": [
    "# download caht2vis.py: https://github.com/microsoft/VisEval/blob/main/examples/agent/chat2vis.py\n",
    "# put chat2vis to folder: ...\\Python\\Lib\\site-packages\\viseval\n",
    "from viseval.chat2vis import Chat2vis"
   ]
  },
  {
   "cell_type": "code",
   "execution_count": null,
   "id": "bb5d1ce4-c1d0-4c95-95be-87907c3811ca",
   "metadata": {},
   "outputs": [],
   "source": [
    "# inside https://github.com/microsoft/VisEval/blob/main/examples/evaluate.py\n",
    "import argparse\n",
    "from pathlib import Path\n",
    "\n",
    "import dotenv\n",
    "from viseval.chat2vis import Chat2vis\n",
    "\n",
    "from viseval import Dataset, Evaluator\n",
    "\n",
    "dotenv.load_dotenv()\n",
    "\n",
    "\n",
    "def configure_llm(model: str, agent: str):\n",
    "    if agent == \"lida\":\n",
    "        if model in [\"gpt-35-turbo\", \"gpt-4\"]:\n",
    "            from llmx import llm\n",
    "\n",
    "            return llm(\n",
    "                provider=\"openai\",\n",
    "                api_type=\"azure\",\n",
    "                model=model,\n",
    "                models={\n",
    "                    \"max_tokens\": 4096,\n",
    "                    \"temperature\": 0.0,\n",
    "                },\n",
    "            )\n",
    "        else:\n",
    "            raise ValueError(f\"Unknown model {model}\")\n",
    "    else:\n",
    "        if model == \"gemini-pro\":\n",
    "            from langchain_google_genai import ChatGoogleGenerativeAI\n",
    "\n",
    "            return ChatGoogleGenerativeAI(\n",
    "                model=model, temperature=0.0, convert_system_message_to_human=True\n",
    "            )\n",
    "        elif model in [\"gpt-35-turbo\", \"gpt-4\"]:\n",
    "            from langchain_openai import AzureChatOpenAI\n",
    "\n",
    "            return AzureChatOpenAI(\n",
    "                model_name=model,\n",
    "                max_retries=999,\n",
    "                temperature=0.0,\n",
    "                request_timeout=20,\n",
    "            )\n",
    "        elif model == \"codellama-7b\":\n",
    "            from model.langchain_llama import ChatLlama\n",
    "\n",
    "            return ChatLlama(\"../llama_models/CodeLlama-7b-Instruct\")\n",
    "        else:\n",
    "            raise ValueError(f\"Unknown model {model}\")\n",
    "\n",
    "\n",
    "def config_agent(agent: str, model: str, config: dict):\n",
    "    llm = configure_llm(model, agent)\n",
    "    if agent == \"coml4vis\":\n",
    "        return CoML4VIS(llm, config)\n",
    "    elif agent == \"chat2vis\":\n",
    "        return Chat2vis(llm)\n",
    "    elif agent == \"lida\":\n",
    "        return Lida(llm)\n",
    "    else:\n",
    "        raise ValueError(f\"Unknown agent {agent}\")\n",
    "\n"
   ]
  }
 ],
 "metadata": {
  "kernelspec": {
   "display_name": "Python 3 (ipykernel)",
   "language": "python",
   "name": "python3"
  },
  "language_info": {
   "codemirror_mode": {
    "name": "ipython",
    "version": 3
   },
   "file_extension": ".py",
   "mimetype": "text/x-python",
   "name": "python",
   "nbconvert_exporter": "python",
   "pygments_lexer": "ipython3",
   "version": "3.11.5"
  }
 },
 "nbformat": 4,
 "nbformat_minor": 5
}
