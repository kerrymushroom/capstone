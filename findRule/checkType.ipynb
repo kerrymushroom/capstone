{
 "cells": [
  {
   "cell_type": "code",
   "source": [
    "question_serial = '211'\n",
    "question_index = \"0\""
   ],
   "metadata": {
    "collapsed": false
   },
   "id": "57e663e1bb66372a",
   "outputs": [],
   "execution_count": null
  },
  {
   "cell_type": "code",
   "source": [
    "import json\n",
    "from evaluation.checkType import eval_type_check\n",
    "\n",
    "with open('formatted_testCase.json') as f:\n",
    "    test_cases = json.load(f)\n",
    "    \n",
    "    answer = test_cases[question_serial][question_index]['code']\n",
    "    type_score = eval_type_check(question_serial, question_index, answer)\n",
    "    print(type_score)"
   ],
   "metadata": {
    "collapsed": true
   },
   "id": "initial_id",
   "outputs": [],
   "execution_count": null
  },
  {
   "metadata": {},
   "cell_type": "code",
   "source": [
    "from evaluation.checkData import eval_data_check\n",
    "\n",
    "data_score = eval_data_check(question_serial, question_index, answer)\n",
    "print(data_score)"
   ],
   "id": "4ee05d723d44f385",
   "outputs": [],
   "execution_count": null
  },
  {
   "metadata": {},
   "cell_type": "markdown",
   "source": "TODO: Deal with sub-plots code",
   "id": "eff2652ecb959a80"
  }
 ],
 "metadata": {
  "kernelspec": {
   "display_name": "Python 3",
   "language": "python",
   "name": "python3"
  },
  "language_info": {
   "codemirror_mode": {
    "name": "ipython",
    "version": 2
   },
   "file_extension": ".py",
   "mimetype": "text/x-python",
   "name": "python",
   "nbconvert_exporter": "python",
   "pygments_lexer": "ipython2",
   "version": "2.7.6"
  }
 },
 "nbformat": 4,
 "nbformat_minor": 5
}
